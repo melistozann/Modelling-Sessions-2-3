{
  "nbformat": 4,
  "nbformat_minor": 0,
  "metadata": {
    "colab": {
      "provenance": [],
      "authorship_tag": "ABX9TyPOc0JXOFdEJp5FYkoswe6N",
      "include_colab_link": true
    },
    "kernelspec": {
      "name": "python3",
      "display_name": "Python 3"
    },
    "language_info": {
      "name": "python"
    }
  },
  "cells": [
    {
      "cell_type": "markdown",
      "metadata": {
        "id": "view-in-github",
        "colab_type": "text"
      },
      "source": [
        "<a href=\"https://colab.research.google.com/github/melistozann/Modelling-Sessions-2-3/blob/main/Session_3_4_.ipynb\" target=\"_parent\"><img src=\"https://colab.research.google.com/assets/colab-badge.svg\" alt=\"Open In Colab\"/></a>"
      ]
    },
    {
      "cell_type": "code",
      "execution_count": 1,
      "metadata": {
        "colab": {
          "base_uri": "https://localhost:8080/"
        },
        "id": "po3Ve-xSj5_e",
        "outputId": "477ec371-c4f5-4bc2-90a9-6992b57fa94d"
      },
      "outputs": [
        {
          "output_type": "stream",
          "name": "stdout",
          "text": [
            "Your hand: [7 of Diamonds, Q of Clubs, 8 of Spades, 10 of Hearts, 3 of Diamonds]\n",
            "Hand type: High card: Q of Clubs\n"
          ]
        }
      ],
      "source": [
        "import random\n",
        "\n",
        "class Card:\n",
        "    \"\"\"Just a basic card with a suit and rank.\"\"\"\n",
        "    def __init__(self, suit, rank):\n",
        "        self.suit = suit\n",
        "        self.rank = rank\n",
        "\n",
        "    def __repr__(self):\n",
        "        return f\"{self.rank} of {self.suit}\"\n",
        "\n",
        "\n",
        "class Deck:\n",
        "    \"\"\"Creates and manages a deck of cards.\"\"\"\n",
        "    suits = ['Hearts', 'Diamonds', 'Clubs', 'Spades']\n",
        "    ranks = ['2', '3', '4', '5', '6', '7', '8', '9', '10', 'J', 'Q', 'K', 'A']\n",
        "\n",
        "    def __init__(self):\n",
        "        self.cards = self.generate_deck()\n",
        "\n",
        "    def shuffle(self):\n",
        "        \"\"\"Shuffles the deck.\"\"\"\n",
        "        random.shuffle(self.cards)\n",
        "\n",
        "    def deal_hand(self, hand_size=5):\n",
        "        \"\"\"Deals a hand of cards.\"\"\"\n",
        "        return [self.cards.pop() for _ in range(hand_size)]\n",
        "\n",
        "    @staticmethod\n",
        "    def generate_deck():\n",
        "        \"\"\"Creates a full deck of 52 cards.\"\"\"\n",
        "        return [Card(suit, rank) for suit in Deck.suits for rank in Deck.ranks]\n",
        "\n",
        "\n",
        "class PokerHand:\n",
        "    \"\"\"A hand of 5 cards, checks for pair or flush.\"\"\"\n",
        "    def __init__(self, cards):\n",
        "        self.cards = cards\n",
        "\n",
        "    @property\n",
        "    def is_flush(self):\n",
        "        \"\"\"Checks if all cards are the same suit.\"\"\"\n",
        "        suits = [card.suit for card in self.cards]\n",
        "        return all(s == suits[0] for s in suits)\n",
        "\n",
        "    @property\n",
        "    def is_pair(self):\n",
        "        \"\"\"Checks if there's a pair.\"\"\"\n",
        "        ranks = [card.rank for card in self.cards]\n",
        "        rank_counts = {rank: ranks.count(rank) for rank in ranks}\n",
        "        return 2 in rank_counts.values()\n",
        "\n",
        "\n",
        "class BetterPokerHand(PokerHand):\n",
        "    \"\"\"Adds extra stuff to the normal hand like high card.\"\"\"\n",
        "    @property\n",
        "    def high_card(self):\n",
        "        \"\"\"Finds the highest card in the hand.\"\"\"\n",
        "        rank_order = {r: i for i, r in enumerate(Deck.ranks)}\n",
        "        return max(self.cards, key=lambda card: rank_order[card.rank])\n",
        "\n",
        "    def describe(self):\n",
        "        \"\"\"Says what kind of hand it is.\"\"\"\n",
        "        if self.is_flush:\n",
        "            return \"Flush\"\n",
        "        elif self.is_pair:\n",
        "            return \"Pair\"\n",
        "        else:\n",
        "            return f\"High card: {self.high_card}\"\n",
        "\n",
        "\n",
        "deck = Deck()\n",
        "deck.shuffle()\n",
        "hand = BetterPokerHand(deck.deal_hand())\n",
        "\n",
        "print(\"Your hand:\", hand.cards)\n",
        "print(\"Hand type:\", hand.describe())"
      ]
    }
  ]
}